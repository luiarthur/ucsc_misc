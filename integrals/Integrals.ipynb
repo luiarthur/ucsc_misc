{
 "cells": [
  {
   "cell_type": "markdown",
   "metadata": {},
   "source": [
    "$\\newcommand{\\pd}[2]{ \\frac{\\partial#1}{\\partial#2} }$"
   ]
  },
  {
   "cell_type": "markdown",
   "metadata": {},
   "source": [
    "# Integrals\n",
    "\n",
    "Say we have the region: $0 < x < 1$ and $0 < y < x$.\n",
    "\n",
    "To compute the area, we compute the double integral: $\\int_{x=0}^{x=1}\\int_{y=0}^{y=x} ~dy~dx$\n",
    "\n",
    "This evaluates to $\\int_{x=0}^{x=1}x~dx = 1/2$. To gain some intuition, consider the following graph:"
   ]
  },
  {
   "cell_type": "code",
   "execution_count": 20,
   "metadata": {},
   "outputs": [
    {
     "data": {
      "text/plain": [
       "<matplotlib.collections.PolyCollection at 0x7ffb28f682e8>"
      ]
     },
     "execution_count": 20,
     "metadata": {},
     "output_type": "execute_result"
    },
    {
     "data": {
      "image/png": "[encoded data removed]",
      "text/plain": [
       "<Figure size 432x288 with 1 Axes>"
      ]
     },
     "metadata": {
      "needs_background": "light"
     },
     "output_type": "display_data"
    }
   ],
   "source": [
    "import matplotlib.pyplot as plt\n",
    "import numpy as np\n",
    "\n",
    "x = np.linspace(0, 1, num=100)\n",
    "y = x\n",
    "plt.plot(x, y, color='black')\n",
    "plt.hlines(0, xmin=0, xmax=1, color='black')\n",
    "plt.vlines(1, ymin=0, ymax=1, color='black')\n",
    "plt.fill_between(x, 0, y)"
   ]
  },
  {
   "cell_type": "markdown",
   "metadata": {},
   "source": [
    "The shaded region (of this triangle) is in fact $1 / 2$."
   ]
  },
  {
   "cell_type": "markdown",
   "metadata": {},
   "source": [
    "We can switch the order of the integrals and compute the area as \n",
    "$$\n",
    "\\begin{split}\n",
    "& \\int_{y=0}^{y=1}\\int_{x=y}^{x=1} ~dx~dy \\\\\n",
    "= & \\int_{y=0}^{y=1} (1 - y) ~dy \\\\\n",
    "= & (y - y^2/2) \\big{|}_{0}^1 \\\\\n",
    "= & 1 - 1/2 \\\\\n",
    "= & 1/2 \\\\\n",
    "\\end{split}\n",
    "$$"
   ]
  },
  {
   "cell_type": "markdown",
   "metadata": {},
   "source": [
    "---"
   ]
  },
  {
   "cell_type": "markdown",
   "metadata": {},
   "source": [
    "\n",
    "Now let $X, Y \\sim \\text{Unif}(0,1)$ with $X$ and $Y$ independent. Let $W=X+Y$ and find $f_W(w)$.\n",
    "\n",
    "The steps will be are:\n",
    "1. change of variables\n",
    "2. integrate out auxilliary variable\n",
    "    - find the bounds by expressing everything in terms of the vaiable being integrated out and drawing a picture!\n",
    "    \n",
    "Concretely, let $U=X$. This is an auxilliary parameter that we will eventually integrate out.\n",
    "\n",
    "Then, \n",
    "\n",
    "$$\n",
    "\\begin{split}\n",
    "\\begin{cases}\n",
    "U &= X\\\\\n",
    "W & = X + Y\n",
    "\\end{cases}\n",
    "&\\Rightarrow\n",
    "\\begin{cases}\n",
    "X &= U\\\\\n",
    "Y & = W - U\n",
    "\\end{cases} \\\\\n",
    "f_{U,W}(u,w) &= f_{x,y}(u, w-u)|J| \\\\\n",
    "&= 1 \\left| \\begin{matrix}\n",
    "\\pd{u}{u}& \\pd{(w-u)}{u} \\\\\n",
    "\\pd{u}{w} & \\pd{(w-u)}{w} \\\\\n",
    "\\end{matrix} \\right| \\\\\n",
    "&= 1\n",
    "\\end{split} \n",
    "$$\n",
    "\n"
   ]
  },
  {
   "cell_type": "markdown",
   "metadata": {},
   "source": [
    "Now, we have a distribution where one of the variables is $W$. We integrate out $U$.\n",
    "Note the bounds by all bounds in terms of $U$, which is the variable we want to integrate out.\n",
    "$$\n",
    "\\begin{split}\n",
    "0 < u < 1 ~(\\because 0 < x < 1)\\\\\n",
    "0 < w-u < 1 ~(\\because 0 < y < 1)\\\\\n",
    "\\\\\n",
    "0 < u < 1 \\\\\n",
    "w-1 < u < w \\\\\n",
    "\\end{split}\n",
    "$$"
   ]
  },
  {
   "cell_type": "markdown",
   "metadata": {},
   "source": [
    "Now, **draw a picture**."
   ]
  },
  {
   "cell_type": "code",
   "execution_count": 25,
   "metadata": {},
   "outputs": [
    {
     "data": {
      "text/plain": [
       "<matplotlib.collections.PolyCollection at 0x7ffb28eb8d30>"
      ]
     },
     "execution_count": 25,
     "metadata": {},
     "output_type": "execute_result"
    },
    {
     "data": {
      "image/png": "[encoded data removed]",
      "text/plain": [
       "<Figure size 432x288 with 1 Axes>"
      ]
     },
     "metadata": {
      "needs_background": "light"
     },
     "output_type": "display_data"
    }
   ],
   "source": [
    "w1 = np.linspace(0, 1, num=100)\n",
    "w2 = np.linspace(1, 2, num=100)\n",
    "u1 = w1\n",
    "u2 = w2 -1\n",
    "plt.plot(w1, u1, color='black')\n",
    "plt.plot(w2, u2, color='black')\n",
    "plt.hlines(0, xmin=0, xmax=1, color='black')\n",
    "plt.hlines(1, xmin=1, xmax=2, color='black')\n",
    "plt.fill_between(w1, 0, u1)\n",
    "plt.fill_between(w2, u2, 1)"
   ]
  },
  {
   "cell_type": "markdown",
   "metadata": {},
   "source": [
    "Now, we integrate out $U$. Note that the bounds for integration need to be handled differently for when $w\\in(0,1)$ and $w \\in (0,2)$.\n",
    "\n",
    "For $w \\in (0, 1)$ (that is the blue region):\n",
    "$$\n",
    "\\begin{split}\n",
    "f_W(w) &= \\int_{w}^{0} f_{U,W}(u,w)~du \\\\\n",
    "&= \\int_{0}^{2} ~du \\\\\n",
    "&= w \\\\\n",
    "\\end{split}\n",
    "$$\n",
    "\n",
    "For $w \\in (1, 2)$ (that is the orange region):\n",
    "$$\n",
    "\\begin{split}\n",
    "f_W(w) &= \\int_{w-1}^{1} f_{U,W}(u,w)~du \\\\\n",
    "&= \\int_{w-1}^{1} ~du \\\\\n",
    "&= 2 - w \\\\\n",
    "\\end{split}\n",
    "$$\n",
    "\n",
    "$$\n",
    "\\therefore f_W(w) = \\begin{cases}\n",
    "w & \\text{for $0 < w < 1$} \\\\\n",
    "2-w & \\text{for $1 < w < 2$} \\\\\n",
    "0 & \\text{otherwise}.\n",
    "\\end{cases}\n",
    "$$"
   ]
  },
  {
   "cell_type": "code",
   "execution_count": null,
   "metadata": {},
   "outputs": [],
   "source": []
  }
 ],
 "metadata": {
  "kernelspec": {
   "display_name": "Python 3",
   "language": "python",
   "name": "python3"
  },
  "language_info": {
   "codemirror_mode": {
    "name": "ipython",
    "version": 3
   },
   "file_extension": ".py",
   "mimetype": "text/x-python",
   "name": "python",
   "nbconvert_exporter": "python",
   "pygments_lexer": "ipython3",
   "version": "3.6.6"
  }
 },
 "nbformat": 4,
 "nbformat_minor": 2
}
